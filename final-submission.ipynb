{
 "cells": [
  {
   "cell_type": "code",
   "execution_count": 15,
   "metadata": {},
   "outputs": [
    {
     "name": "stdout",
     "output_type": "stream",
     "text": [
      "Libraries imported.\n"
     ]
    }
   ],
   "source": [
    "import numpy as np # library to handle data in a vectorized manner\n",
    "import requests\n",
    "import pandas as pd # library for data analsysis\n",
    "pd.set_option('display.max_columns', None)\n",
    "pd.set_option('display.max_rows', None)\n",
    "\n",
    "import json # library to handle JSON files\n",
    "\n",
    "#!conda install -c conda-forge geopy --yes # uncomment this line if you haven't completed the Foursquare API lab\n",
    "# from geopy.geocoders import Nominatim # convert an address into latitude and longitude values\n",
    "\n",
    "import requests # library to handle requests\n",
    "from pandas.io.json import json_normalize # tranform JSON file into a pandas dataframe\n",
    "\n",
    "# Matplotlib and associated plotting modules\n",
    "import matplotlib.cm as cm\n",
    "import matplotlib.colors as colors\n",
    "\n",
    "# import k-means from clustering stage\n",
    "from sklearn.cluster import KMeans\n",
    "\n",
    "#!conda install -c conda-forge folium=0.5.0 --yes # uncomment this line if you haven't completed the Foursquare API lab\n",
    "#import folium # map rendering library\n",
    "\n",
    "print('Libraries imported.')"
   ]
  },
  {
   "cell_type": "code",
   "execution_count": 18,
   "metadata": {},
   "outputs": [
    {
     "data": {
      "text/plain": [
       "{'Date': 'Wed, 19 Aug 2020 11:50:53 GMT', 'Content-Type': 'text/html; charset=utf-8', 'Cache-Control': 'no-cache, no-store', 'Pragma': 'no-cache', 'Content-Encoding': 'gzip', 'Set-Cookie': 'CSRF-TOKEN=CfDJ8LdUzqlsSWBPr4Ce3rb9VL9keheMKydTvAALbNvTa7wIhnzHO83in1mXHkX-nWLNqHQp1-X1dl7JbQjeA5StsTu_TA7SQ3tPqneBUvDpXeITfSHl1LGs9TwgVyEcChk9rtLL9IOgGFYiV-agokpHLAA; path=/; secure; samesite=lax; httponly, XSRF-TOKEN=CfDJ8LdUzqlsSWBPr4Ce3rb9VL_aS3C9b0QW4UNr0_TM3bTs_B41ZcwYo3mk4rV3ydY9H4VPmBph2lwG7gGfp8Xk5ou802NGHBO0eRlHc_L5pf43WFmSysdFNj0S-3o5n-11bchql6eQvsZTBXDTue-7SbE; path=/; secure; samesite=lax, CLIENT-TOKEN=eyJhbGciOiJub25lIiwidHlwIjoiSldUIn0.eyJpc3MiOiJrYWdnbGUiLCJhdWQiOiJjbGllbnQiLCJzdWIiOm51bGwsIm5idCI6IjIwMjAtMDgtMTlUMTE6NTA6NTMuNTc1MDMwOFoiLCJpYXQiOiIyMDIwLTA4LTE5VDExOjUwOjUzLjU3NTAzMDhaIiwianRpIjoiNDZhZDY4ZjUtM2RlZi00NWEwLTkzMTAtMjFmZmRlNDE1ZDRjIiwiZXhwIjoiMjAyMC0wOS0xOVQxMTo1MDo1My41NzUwMzA4WiIsImFub24iOnRydWUsImZmIjpbIkZsZXhpYmxlR3B1IiwiS2VybmVsc0ludGVybmV0IiwiRGF0YUV4cGxvcmVyVjIiLCJEYXRhU291cmNlU2VsZWN0b3JWMiIsIktlcm5lbHNWaWV3ZXJJbm5lclRhYmxlT2ZDb250ZW50cyIsIkZvcnVtV2F0Y2hEZXByZWNhdGVkIiwiTmV3S2VybmVsV2VsY29tZSIsIk1kZUltYWdlVXBsb2FkZXIiLCJLZXJuZWxzUXVpY2tWZXJzaW9ucyIsIktlcm5lbHNBZHZhbmNlZFNhdmVPcHRpb25zIiwiRGlzYWJsZUN1c3RvbVBhY2thZ2VzIiwiRG9ja2VyTW9kYWxTZWxlY3RvciIsIlBob25lVmVyaWZ5Rm9yR3B1IiwiR2Nsb3VkS2VybmVsSW50ZWciLCJOYXZpZ2F0aW9uUmVkZXNpZ24iLCJLZXJuZWxzU25pcHBldHMiLCJLZXJuZWxXZWxjb21lTG9hZEZyb21VcmwiLCJUcHVLZXJuZWxJbnRlZyIsIlRwdVVudXNlZE51ZGdlIiwiQ2FpcEV4cG9ydCIsIktlcm5lbHNBZGp1c3RCYXNlUGF0aCIsIktlcm5lbHNGaXJlYmFzZUxvbmdQb2xsaW5nIiwiRGF0YXNldExpdmVNb3VudCIsIkVuYWJsZVJhcGlkYXNoIiwiU2Vzc2lvbmxlc3NFZGl0aW5nIiwiRGF0YXNldHNEYXRhRXhwbG9yZXJWM1RyZWVMZWZ0IiwiRGF0YXNldHNEYXRhRXhwbG9yZXJWM05vdGVib29rRWRpdG9yIiwiRGlzY3Vzc2lvbnNSZWZhY3RvckVuYWJsZWQiLCJEYXRhc2V0c0RhdGFFeHBsb3JlclYzQ2hlY2tGb3JVcGRhdGVzIiwiRGF0YXNldHNEYXRhRXhwbG9yZXJWM0NoZWNrRm9yVXBkYXRlc0luQmFja2dyb3VuZCIsIkpvYnNCb2FyZE9uTWFpbk5hdiIsIktlcm5lbHNTdGFja092ZXJmbG93U2VhcmNoIl0sInBpZCI6ImthZ2dsZS0xNjE2MDciLCJzdmMiOiJ3ZWItZmUiLCJzZGFrIjoiQUl6YVN5REFOR1hGSHRTSVZjNTFNSWRHd2c0bVFGZ20zb05yS29vIiwiYmxkIjoiN2ZhMzc0ZTZiYzY1ODk4YTNhOGE5YWY5NjMwMWEwOGY4ZmI0MjIxOSJ9.; path=/; secure; samesite=lax', 'Vary': 'Accept-Encoding', 'X-Cloud-Trace-Context': 'deec31d4c7b665fbeb85aa8b4a8102fa/17377616533635008154;o=1', 'Turbolinks-Location': 'https://www.kaggle.com/account/login?returnUrl=%2Fsobhanmoosavi%2Fus-accidents&message=Welcome%20to%20Kaggle!%20Join%20our%20community%20of%20over%205%20million%20data%20scientists.%20Find%20datasets%20and%20code%20as%20well%20as%20free%20access%20to%20compute%20on%20our%20platform.&titleType=dataset-downloads&showDatasetDownloadSkip=False', 'X-Frame-Options': 'SAMEORIGIN', 'Strict-Transport-Security': 'max-age=63072000; includeSubDomains; preload', 'Content-Security-Policy': \"object-src 'none'; script-src 'nonce-174GpMno6284buarnFXXHQ==' 'report-sample' 'unsafe-inline' 'unsafe-eval' 'strict-dynamic' https: http:; frame-src 'self' https://www.kaggleusercontent.com https://www.youtube.com/embed/ https://polygraph-cool.github.io https://js.stripe.com https://www.google.com/recaptcha/ https://form.jotform.com https://submit.jotform.us https://submit.jotformpro.com https://submit.jotform.com https://www.docdroid.com https://www.docdroid.net https://kaggle-static.storage.googleapis.com https://kaggle-static-staging.storage.googleapis.com https://kkb-dev.jupyter-proxy.kaggle.net https://kkb-staging.jupyter-proxy.kaggle.net https://kkb-production.jupyter-proxy.kaggle.net https://kkb-production.firebaseapp.com https://apis.google.com https://content-sheets.googleapis.com/ https://accounts.google.com/ https://storage.googleapis.com; base-uri 'none'; report-uri /csp/report\", 'X-Content-Type-Options': 'nosniff', 'Referrer-Policy': 'strict-origin-when-cross-origin', 'Via': '1.1 google', 'Alt-Svc': 'clear', 'Transfer-Encoding': 'chunked'}"
      ]
     },
     "execution_count": 18,
     "metadata": {},
     "output_type": "execute_result"
    }
   ],
   "source": [
    "#Getting the Data\n",
    "\n",
    "\n",
    "url=\"https://www.kaggle.com/sobhanmoosavi/us-accidents/download\"\n",
    "\n",
    "r = requests.get(url)\n",
    "\n",
    "r.headers\n",
    "# url = \"https://s3.us.cloud-object-storage.appdomain.cloud/cf-courses-data/CognitiveClass/DP0701EN/version-2/Data-Collisions.csv\"\n",
    "# df = pd.read_csv(url,low_memory=False)\n",
    "# data = df\n",
    "# print(\"Data Loaded!\")"
   ]
  },
  {
   "cell_type": "code",
   "execution_count": 19,
   "metadata": {},
   "outputs": [
    {
     "ename": "AttributeError",
     "evalue": "'Response' object has no attribute 'head'",
     "output_type": "error",
     "traceback": [
      "\u001b[1;31m---------------------------------------------------------------------------\u001b[0m",
      "\u001b[1;31mAttributeError\u001b[0m                            Traceback (most recent call last)",
      "\u001b[1;32m<ipython-input-19-5140643c40df>\u001b[0m in \u001b[0;36m<module>\u001b[1;34m\u001b[0m\n\u001b[0;32m      1\u001b[0m \u001b[1;31m#First Look at the data\u001b[0m\u001b[1;33m\u001b[0m\u001b[1;33m\u001b[0m\u001b[1;33m\u001b[0m\u001b[0m\n\u001b[1;32m----> 2\u001b[1;33m \u001b[0mr\u001b[0m\u001b[1;33m.\u001b[0m\u001b[0mhead\u001b[0m\u001b[1;33m(\u001b[0m\u001b[1;33m)\u001b[0m\u001b[1;33m\u001b[0m\u001b[1;33m\u001b[0m\u001b[0m\n\u001b[0m",
      "\u001b[1;31mAttributeError\u001b[0m: 'Response' object has no attribute 'head'"
     ]
    }
   ],
   "source": [
    "#First Look at the data\n",
    "data.head()"
   ]
  },
  {
   "cell_type": "code",
   "execution_count": null,
   "metadata": {},
   "outputs": [],
   "source": []
  }
 ],
 "metadata": {
  "kernelspec": {
   "display_name": "Python 3",
   "language": "python",
   "name": "python3"
  },
  "language_info": {
   "codemirror_mode": {
    "name": "ipython",
    "version": 3
   },
   "file_extension": ".py",
   "mimetype": "text/x-python",
   "name": "python",
   "nbconvert_exporter": "python",
   "pygments_lexer": "ipython3",
   "version": "3.7.6"
  }
 },
 "nbformat": 4,
 "nbformat_minor": 4
}
